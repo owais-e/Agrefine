{
 "cells": [
  {
   "cell_type": "code",
   "execution_count": 1,
   "id": "b019fc9f",
   "metadata": {},
   "outputs": [],
   "source": [
    "import pandas as pd\n",
    "import numpy as np"
   ]
  },
  {
   "cell_type": "code",
   "execution_count": 2,
   "id": "6ba87d84",
   "metadata": {},
   "outputs": [],
   "source": [
    "data=pd.read_csv('fertilizer.csv')"
   ]
  },
  {
   "cell_type": "code",
   "execution_count": 3,
   "id": "1101a78d",
   "metadata": {},
   "outputs": [],
   "source": [
    "crop='rice'\n",
    "N=45\n",
    "P=50\n",
    "K=50"
   ]
  },
  {
   "cell_type": "code",
   "execution_count": 4,
   "id": "92411d02",
   "metadata": {},
   "outputs": [
    {
     "data": {
      "text/html": [
       "<div>\n",
       "<style scoped>\n",
       "    .dataframe tbody tr th:only-of-type {\n",
       "        vertical-align: middle;\n",
       "    }\n",
       "\n",
       "    .dataframe tbody tr th {\n",
       "        vertical-align: top;\n",
       "    }\n",
       "\n",
       "    .dataframe thead th {\n",
       "        text-align: right;\n",
       "    }\n",
       "</style>\n",
       "<table border=\"1\" class=\"dataframe\">\n",
       "  <thead>\n",
       "    <tr style=\"text-align: right;\">\n",
       "      <th></th>\n",
       "      <th>N</th>\n",
       "      <th>P</th>\n",
       "      <th>K</th>\n",
       "      <th>label</th>\n",
       "      <th>crop_name</th>\n",
       "    </tr>\n",
       "  </thead>\n",
       "  <tbody>\n",
       "    <tr>\n",
       "      <th>0</th>\n",
       "      <td>90</td>\n",
       "      <td>42</td>\n",
       "      <td>43</td>\n",
       "      <td>rice</td>\n",
       "      <td>rice</td>\n",
       "    </tr>\n",
       "    <tr>\n",
       "      <th>1</th>\n",
       "      <td>85</td>\n",
       "      <td>58</td>\n",
       "      <td>41</td>\n",
       "      <td>rice</td>\n",
       "      <td>rice</td>\n",
       "    </tr>\n",
       "    <tr>\n",
       "      <th>2</th>\n",
       "      <td>60</td>\n",
       "      <td>55</td>\n",
       "      <td>44</td>\n",
       "      <td>rice</td>\n",
       "      <td>rice</td>\n",
       "    </tr>\n",
       "    <tr>\n",
       "      <th>3</th>\n",
       "      <td>74</td>\n",
       "      <td>35</td>\n",
       "      <td>40</td>\n",
       "      <td>rice</td>\n",
       "      <td>rice</td>\n",
       "    </tr>\n",
       "    <tr>\n",
       "      <th>4</th>\n",
       "      <td>78</td>\n",
       "      <td>42</td>\n",
       "      <td>42</td>\n",
       "      <td>rice</td>\n",
       "      <td>rice</td>\n",
       "    </tr>\n",
       "  </tbody>\n",
       "</table>\n",
       "</div>"
      ],
      "text/plain": [
       "    N   P   K label crop_name\n",
       "0  90  42  43  rice      rice\n",
       "1  85  58  41  rice      rice\n",
       "2  60  55  44  rice      rice\n",
       "3  74  35  40  rice      rice\n",
       "4  78  42  42  rice      rice"
      ]
     },
     "execution_count": 4,
     "metadata": {},
     "output_type": "execute_result"
    }
   ],
   "source": [
    "data.head()"
   ]
  },
  {
   "cell_type": "code",
   "execution_count": 5,
   "id": "21add26b",
   "metadata": {},
   "outputs": [],
   "source": [
    "grouped_data=data.groupby('label')\n",
    "df=grouped_data.get_group(crop)"
   ]
  },
  {
   "cell_type": "code",
   "execution_count": 6,
   "id": "e14d3a6e",
   "metadata": {},
   "outputs": [],
   "source": [
    "min_N=df['N'].min()\n",
    "min_P=df['P'].min()\n",
    "min_K=df['K'].min()"
   ]
  },
  {
   "cell_type": "code",
   "execution_count": 7,
   "id": "416dfe71",
   "metadata": {},
   "outputs": [],
   "source": [
    "max_N=df['N'].max()\n",
    "max_P=df['P'].max()\n",
    "max_K=df['K'].max()"
   ]
  },
  {
   "cell_type": "code",
   "execution_count": 8,
   "id": "f4b76628",
   "metadata": {},
   "outputs": [],
   "source": [
    "if(N < max_N and N > min_N):\n",
    "    nitrogen=0\n",
    "else:\n",
    "    if(N > max_N):\n",
    "        nitrogen=N-max_N\n",
    "    else:\n",
    "        nitrogen=N-min_N\n",
    "        \n",
    "if(K < max_K and K > min_K):\n",
    "    potassium=0\n",
    "else:\n",
    "    if(K > max_K):\n",
    "        potassium=K-max_K\n",
    "    else:\n",
    "        potassium=K-min_K\n",
    "        \n",
    "if(P < max_P and P > min_P):\n",
    "    phosphorus=0\n",
    "else:\n",
    "    if(P > max_P):\n",
    "        phosphorus=P-max_P\n",
    "    else:\n",
    "        phosphorus=P-min_P\n",
    "        \n",
    "\n"
   ]
  },
  {
   "cell_type": "code",
   "execution_count": 9,
   "id": "3485c3c3",
   "metadata": {},
   "outputs": [],
   "source": [
    "npk_dict={\n",
    "    abs(nitrogen):\"nit\",\n",
    "    abs(potassium):\"pot\",\n",
    "    abs(phosphorus):\"pho\"\n",
    "}"
   ]
  },
  {
   "cell_type": "code",
   "execution_count": 10,
   "id": "57e09084",
   "metadata": {},
   "outputs": [],
   "source": [
    "x=max(npk_dict.keys())\n",
    "lowest_one=npk_dict[x]"
   ]
  },
  {
   "cell_type": "code",
   "execution_count": 11,
   "id": "26c3d891",
   "metadata": {},
   "outputs": [],
   "source": [
    "if(nitrogen == 0 and phosphorus == 0 and potassium== 0):\n",
    "    result='all good'\n",
    "else:\n",
    "    if(lowest_one == 'nit'):\n",
    "        if(nitrogen > 0):\n",
    "            result='NHigh'\n",
    "        else:\n",
    "            result=\"NLow\"\n",
    "    if(lowest_one == 'pot'):\n",
    "        if(potassium > 0):\n",
    "            result='kHigh'\n",
    "        else:\n",
    "            result=\"kLow\"\n",
    "    if(lowest_one == 'pho'):\n",
    "        if(phosphorus > 0):\n",
    "            result='PHigh'\n",
    "        else:\n",
    "            result=\"PLow\"\n",
    "    "
   ]
  },
  {
   "cell_type": "code",
   "execution_count": 12,
   "id": "c0fa2976",
   "metadata": {},
   "outputs": [
    {
     "data": {
      "text/plain": [
       "'NLow'"
      ]
     },
     "execution_count": 12,
     "metadata": {},
     "output_type": "execute_result"
    }
   ],
   "source": [
    "result"
   ]
  }
 ],
 "metadata": {
  "kernelspec": {
   "display_name": "Python 3 (ipykernel)",
   "language": "python",
   "name": "python3"
  },
  "language_info": {
   "codemirror_mode": {
    "name": "ipython",
    "version": 3
   },
   "file_extension": ".py",
   "mimetype": "text/x-python",
   "name": "python",
   "nbconvert_exporter": "python",
   "pygments_lexer": "ipython3",
   "version": "3.10.9"
  }
 },
 "nbformat": 4,
 "nbformat_minor": 5
}
